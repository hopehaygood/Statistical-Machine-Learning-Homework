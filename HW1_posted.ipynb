{
 "cells": [
  {
   "cell_type": "markdown",
   "id": "fb9c5596",
   "metadata": {},
   "source": [
    "### MATH 6388: Statistical and Machine Learning, Fall 2022 \n",
    "### Homework 1 "
   ]
  },
  {
   "cell_type": "markdown",
   "id": "3f1bef57",
   "metadata": {},
   "source": [
    "In regression problems, it is common to assume the output distribution is a Gaussian or normal, i.e., $\\mathcal{N}(y|\\mu, \\sigma^2)=\\frac{1}{\\sqrt{2\\pi\\sigma^2}}\\exp\\big(-\\frac{1}{2\\sigma^2}(y-\\mu)^2\\big)$, where $\\mu$ is the mean and $\\sigma^2$ is the variance. Additionally, we can make the mean depend on the input of the regression model by defining $\\mu:=f(x;\\theta)$. In this setting, the input variable $x$, output variable $y$, and the model parameter $\\theta$ are scalars. Therefore, we get the following conditional probability distribution\n",
    "$$p(y|x,\\theta)=\\mathcal{N}(y|f(x;\\theta),\\sigma^2)$$\n",
    "\n",
    "Note that the variance $\\sigma^2$ is fixed and independent of the input variable $x$. "
   ]
  },
  {
   "cell_type": "markdown",
   "id": "5d2ad4f7",
   "metadata": {},
   "source": [
    "### Problem 1\n",
    "\n",
    "Find the Negative Log Likelihood (NLL) for a given data set $\\mathcal{D}=\\{(x_n,y_n)\\}_{n=1}^N$ and show how it relates to minimizing the mean squared error (MSE), which is the most common approach for model fitting in the context of regression?"
   ]
  },
  {
   "cell_type": "markdown",
   "id": "0b6e12b2",
   "metadata": {},
   "source": []
  },
  {
   "cell_type": "markdown",
   "id": "8c8fddc1",
   "metadata": {},
   "source": [
    "### Problem 2\n",
    "\n",
    "Let us consider a linear model of the form $f(x;\\theta)=\\theta x$, i.e., $\\theta$ is the slope of the line, which should be found by solving the following optimization problem\n",
    "\n",
    "$$\\underset{\\theta}{\\operatorname{argmin}} \\frac{1}{N}\\sum_{n=1}^N \\big(y_n - f(x_n;\\theta)\\big)^2$$\n",
    "\n",
    "Calculate the derivative of the objective function with respect to $\\theta$ and set it equal to zero to find the solution?\n"
   ]
  },
  {
   "cell_type": "markdown",
   "id": "926078fc",
   "metadata": {},
   "source": []
  },
  {
   "cell_type": "markdown",
   "id": "c3c995e3",
   "metadata": {},
   "source": [
    "### Problem 3\n",
    "In this problem, we investigate the accuracy of the obtained solution for the above optimization problem using a *simulated* data set. To this end, we generate a set of $N=20$ input-output pairs $\\mathcal{D}=\\{(x_n,y_n)\\}_{n=1}^N$ using the conditional probability distribution that we discussed earlier while fixing the values of  the slope $\\theta=3$ and variance $\\sigma^2=2$. This means that for each value of $x$, we use the following probability distribution to draw the output value\n",
    "\n",
    "$$p(y|x,\\theta)=\\mathcal{N}(3x, 2)$$\n",
    "\n",
    "The data generation process is given below. The remaining task is to write a *function* that accepts a list of inputs and outputs to return the estimated value of the slope $\\theta$. Once you find an estimate of $\\theta$, calculate the absolute value of the difference. "
   ]
  },
  {
   "cell_type": "code",
   "execution_count": 30,
   "id": "d232b6c7",
   "metadata": {},
   "outputs": [],
   "source": [
    "# data generation \n",
    "import numpy as np \n",
    "N, theta, sigma = 20, 3, np.sqrt(2)\n",
    "x = np.linspace(-3, 3, N) \n",
    "y = np.zeros(N)\n",
    "\n",
    "# https://numpy.org/doc/stable/reference/random/generated/numpy.random.normal.html\n",
    "for ind in range(N):\n",
    "    y[ind] = np.random.normal(loc=theta*x[ind], scale=sigma)"
   ]
  },
  {
   "cell_type": "code",
   "execution_count": 31,
   "id": "e3946f9e",
   "metadata": {},
   "outputs": [],
   "source": [
    "# Function Definition\n",
    "\n",
    "def slope(x, y):\n",
    "    \n",
    "    # Calculate the numerator of the slope\n",
    "    for i in range(len(x)):\n",
    "        num = np.sum(x[i]*y[i])\n",
    "        \n",
    "    # Calculate the denominator of the slope\n",
    "    for i in range(len(x)):\n",
    "        denom = np.sum(x[i]**2)\n",
    "        \n",
    "    # Calculate the Slope (theta)\n",
    "    slope = num/denom\n",
    "    \n",
    "    return slope"
   ]
  },
  {
   "cell_type": "code",
   "execution_count": 32,
   "id": "1456c9cf",
   "metadata": {},
   "outputs": [
    {
     "data": {
      "text/plain": [
       "3.7358066986843994"
      ]
     },
     "execution_count": 32,
     "metadata": {},
     "output_type": "execute_result"
    }
   ],
   "source": [
    "slope(x,y)"
   ]
  },
  {
   "cell_type": "code",
   "execution_count": null,
   "id": "a40e5f6f",
   "metadata": {},
   "outputs": [],
   "source": []
  }
 ],
 "metadata": {
  "kernelspec": {
   "display_name": "Python 3 (ipykernel)",
   "language": "python",
   "name": "python3"
  },
  "language_info": {
   "codemirror_mode": {
    "name": "ipython",
    "version": 3
   },
   "file_extension": ".py",
   "mimetype": "text/x-python",
   "name": "python",
   "nbconvert_exporter": "python",
   "pygments_lexer": "ipython3",
   "version": "3.9.7"
  }
 },
 "nbformat": 4,
 "nbformat_minor": 5
}
