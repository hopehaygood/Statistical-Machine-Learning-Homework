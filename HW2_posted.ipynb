{
 "cells": [
  {
   "cell_type": "markdown",
   "id": "fb9c5596",
   "metadata": {},
   "source": [
    "### MATH 6388: Statistical and Machine Learning, Fall 2022 \n",
    "### Homework 2 "
   ]
  },
  {
   "cell_type": "markdown",
   "id": "5d2ad4f7",
   "metadata": {},
   "source": [
    "### Problem 1\n",
    "In this problem, we create a small one-dimensional NumPy array. "
   ]
  },
  {
   "cell_type": "code",
   "execution_count": 1,
   "id": "98751cee",
   "metadata": {},
   "outputs": [
    {
     "data": {
      "text/plain": [
       "array([1, 2, 3, 4, 5, 6, 7, 8])"
      ]
     },
     "execution_count": 1,
     "metadata": {},
     "output_type": "execute_result"
    }
   ],
   "source": [
    "import numpy as np \n",
    "arr = np.arange(1,9)\n",
    "arr"
   ]
  },
  {
   "cell_type": "markdown",
   "id": "6589c842",
   "metadata": {},
   "source": [
    "Form a new array called arr1, where every element is greater than 2. "
   ]
  },
  {
   "cell_type": "code",
   "execution_count": 2,
   "id": "3a3b8256",
   "metadata": {},
   "outputs": [
    {
     "data": {
      "text/plain": [
       "array([3, 4, 5, 6, 7, 8])"
      ]
     },
     "execution_count": 2,
     "metadata": {},
     "output_type": "execute_result"
    }
   ],
   "source": [
    "arr1 = arr[arr > 2]\n",
    "arr1"
   ]
  },
  {
   "cell_type": "code",
   "execution_count": null,
   "id": "a5e36de9",
   "metadata": {},
   "outputs": [],
   "source": []
  },
  {
   "cell_type": "markdown",
   "id": "641628e3",
   "metadata": {},
   "source": [
    "Using arr1, form a new array called arr2, where every element is less than 5. "
   ]
  },
  {
   "cell_type": "code",
   "execution_count": 3,
   "id": "36caa564",
   "metadata": {},
   "outputs": [
    {
     "data": {
      "text/plain": [
       "array([3, 4])"
      ]
     },
     "execution_count": 3,
     "metadata": {},
     "output_type": "execute_result"
    }
   ],
   "source": [
    "arr2 = arr1[arr1 < 5]\n",
    "arr2"
   ]
  },
  {
   "cell_type": "code",
   "execution_count": null,
   "id": "8d62c9fa",
   "metadata": {},
   "outputs": [],
   "source": []
  },
  {
   "cell_type": "code",
   "execution_count": null,
   "id": "2be8e32b",
   "metadata": {},
   "outputs": [],
   "source": []
  },
  {
   "cell_type": "markdown",
   "id": "aad67049",
   "metadata": {},
   "source": [
    "How can we find elements of arr between 2 and 5 by combining the two conditions? \n",
    "You can look at the documentation page for numpy.logical_and\n"
   ]
  },
  {
   "cell_type": "markdown",
   "id": "bb02721e",
   "metadata": {},
   "source": [
    "We can find the elements of arr between 2 & 5 by combining the two previous conditions via an addition sign. "
   ]
  },
  {
   "cell_type": "code",
   "execution_count": 4,
   "id": "b29bd083",
   "metadata": {},
   "outputs": [
    {
     "data": {
      "text/plain": [
       "array([3, 4])"
      ]
     },
     "execution_count": 4,
     "metadata": {},
     "output_type": "execute_result"
    }
   ],
   "source": [
    "arr_between = arr[(arr > 2) & (arr < 5)]\n",
    "arr_between"
   ]
  },
  {
   "cell_type": "code",
   "execution_count": null,
   "id": "1ad74f2a",
   "metadata": {},
   "outputs": [],
   "source": []
  },
  {
   "cell_type": "markdown",
   "id": "bfa983f0",
   "metadata": {},
   "source": [
    "Let us convert the original NumPy array called arr to a valid probability mass function (pmf) that we will use later. \n",
    "You need to find a ''normalization'' constant such that the sum of elements in pmf must equal to 1. You don't need to be worried about negative values in this problem. \n"
   ]
  },
  {
   "cell_type": "code",
   "execution_count": 5,
   "id": "348b29b5",
   "metadata": {},
   "outputs": [
    {
     "data": {
      "text/plain": [
       "array([0.125, 0.125, 0.125, 0.125, 0.125, 0.125, 0.125, 0.125])"
      ]
     },
     "execution_count": 5,
     "metadata": {},
     "output_type": "execute_result"
    }
   ],
   "source": [
    "arr_prob = np.ones(8)*(1/8)\n",
    "arr_prob"
   ]
  },
  {
   "cell_type": "code",
   "execution_count": null,
   "id": "5fa2023b",
   "metadata": {},
   "outputs": [],
   "source": []
  },
  {
   "cell_type": "markdown",
   "id": "174a98c4",
   "metadata": {},
   "source": [
    "One common task in data analysis, statistics, and machine learning is taking random samples of data according to a given probability distribution. There are multiple ways to do so in NumPy, including numpy.random.choice. Generate a random sample from np.arange(5,45,5) of size 3 without replacement according to the pmf that you found in the previous experiment. "
   ]
  },
  {
   "cell_type": "code",
   "execution_count": 6,
   "id": "a37db881",
   "metadata": {},
   "outputs": [
    {
     "data": {
      "text/plain": [
       "array([ 5, 10, 15, 20, 25, 30, 35, 40])"
      ]
     },
     "execution_count": 6,
     "metadata": {},
     "output_type": "execute_result"
    }
   ],
   "source": [
    "a = np.arange(5, 45, 5)\n",
    "a"
   ]
  },
  {
   "cell_type": "code",
   "execution_count": 7,
   "id": "4b213601",
   "metadata": {},
   "outputs": [
    {
     "data": {
      "text/plain": [
       "array([40,  5, 30])"
      ]
     },
     "execution_count": 7,
     "metadata": {},
     "output_type": "execute_result"
    }
   ],
   "source": [
    "np.random.choice(a, 3, replace = False, p = arr_prob)"
   ]
  },
  {
   "cell_type": "markdown",
   "id": "0351cab5",
   "metadata": {},
   "source": [
    "### Problem 2\n",
    "In this problem, we want to implement the *softmax function*, often used as the last activation function of a neural network for multi-class classification problems (we will discuss what an activation function is later, but for now it is a function). In simple terms, the softmax function is a function that turns a vector of $C$ real values (positive or negative) into a vector of $C$ non-negative real values that sum to 1 (so the output will be a probability mass function or pmf). To be concrete, here is its definition when the input is $\\mathbf{z}=[z_1,\\ldots,z_C]\\in\\mathbb{R}^C$:\n",
    "\n",
    "$$\\sigma(\\mathbf{z})_i=\\frac{e^{z_i}}{\\sum_{i=1}^Ce^{z_i}},\\;i=1,\\ldots,C$$\n",
    "\n",
    "In the following cell, define and implement the softmax fuction (name of this function should be ''softmax'')."
   ]
  },
  {
   "cell_type": "code",
   "execution_count": 8,
   "id": "83d3d555",
   "metadata": {},
   "outputs": [],
   "source": [
    "import numpy as np \n",
    "import math\n",
    "\n",
    "def softmax(z):\n",
    "    e = np.exp(z)\n",
    "    return e / e.sum()"
   ]
  },
  {
   "cell_type": "code",
   "execution_count": null,
   "id": "921cd728",
   "metadata": {},
   "outputs": [],
   "source": []
  },
  {
   "cell_type": "code",
   "execution_count": null,
   "id": "91e930fc",
   "metadata": {},
   "outputs": [],
   "source": []
  },
  {
   "cell_type": "markdown",
   "id": "44277f98",
   "metadata": {},
   "source": [
    "Compute the output of the softmax function for the following input vector."
   ]
  },
  {
   "cell_type": "code",
   "execution_count": 9,
   "id": "0be9dfa6",
   "metadata": {},
   "outputs": [
    {
     "data": {
      "text/plain": [
       "array([0.00241233, 0.00655741, 0.97320538, 0.01782488])"
      ]
     },
     "execution_count": 9,
     "metadata": {},
     "output_type": "execute_result"
    }
   ],
   "source": [
    "z1 = np.array([5, 6, 11, 7])\n",
    "softmax(z1)"
   ]
  },
  {
   "cell_type": "markdown",
   "id": "54905364",
   "metadata": {},
   "source": [
    "Compute the output of the softmax function for the following input vector."
   ]
  },
  {
   "cell_type": "code",
   "execution_count": 10,
   "id": "107a5112",
   "metadata": {},
   "outputs": [
    {
     "name": "stderr",
     "output_type": "stream",
     "text": [
      "C:\\Users\\12563\\AppData\\Local\\Temp/ipykernel_23512/2266792566.py:5: RuntimeWarning: overflow encountered in exp\n",
      "  e = np.exp(z)\n",
      "C:\\Users\\12563\\AppData\\Local\\Temp/ipykernel_23512/2266792566.py:6: RuntimeWarning: invalid value encountered in true_divide\n",
      "  return e / e.sum()\n"
     ]
    },
    {
     "data": {
      "text/plain": [
       "array([nan, nan, nan])"
      ]
     },
     "execution_count": 10,
     "metadata": {},
     "output_type": "execute_result"
    }
   ],
   "source": [
    "z2 = np.array([1e3, 1e4, 2e4])\n",
    "softmax(z2) "
   ]
  },
  {
   "cell_type": "markdown",
   "id": "73cfda2b",
   "metadata": {},
   "source": [
    "You probably noticed that something went wrong and there was an overflow in the exponentials. One way to get around this problem is to multiply both numerator and denominator by $e^{-z_{max}}$, where $z_{max}=\\max_{i}z_i$. Implement this new function and name it as ''softmax_stable''. Once you defined this function, apply it to the two arrays z1 and z2. "
   ]
  },
  {
   "cell_type": "code",
   "execution_count": 11,
   "id": "44f1fea2",
   "metadata": {},
   "outputs": [
    {
     "name": "stdout",
     "output_type": "stream",
     "text": [
      "11\n",
      "[0.00247875 0.00673795 1.         0.01831564]\n",
      "20000.0\n",
      "[0. 0. 1.]\n",
      "[0.00241233 0.00655741 0.97320538 0.01782488] [0. 0. 1.]\n"
     ]
    }
   ],
   "source": [
    "def softmax_stable(z):\n",
    "    z_max = np.max(z)\n",
    "    print(z_max)\n",
    "    num = np.exp(z-z_max)\n",
    "    print(num)\n",
    "    denom = np.sum(np.exp(z-z_max))\n",
    "    ans = (num / denom) \n",
    "    return ans\n",
    "\n",
    "print(softmax_stable(z1), softmax_stable(z2))\n"
   ]
  },
  {
   "cell_type": "code",
   "execution_count": null,
   "id": "e6be3387",
   "metadata": {},
   "outputs": [],
   "source": []
  },
  {
   "cell_type": "code",
   "execution_count": null,
   "id": "29cceea6",
   "metadata": {},
   "outputs": [],
   "source": []
  },
  {
   "cell_type": "code",
   "execution_count": null,
   "id": "7d546ea5",
   "metadata": {},
   "outputs": [],
   "source": []
  },
  {
   "cell_type": "markdown",
   "id": "b899dced",
   "metadata": {},
   "source": [
    "### Problem 3"
   ]
  },
  {
   "cell_type": "markdown",
   "id": "eef8f417",
   "metadata": {},
   "source": [
    "In this problem, we work with one of the datasets included in the sklearn package called ''diabetes''. This dataset consists of 10 measurements taken from diabetes patients."
   ]
  },
  {
   "cell_type": "code",
   "execution_count": null,
   "id": "a66bd467",
   "metadata": {},
   "outputs": [],
   "source": [
    "import numpy as np \n",
    "from sklearn import datasets \n",
    "\n",
    "diabetes = datasets.load_diabetes()\n",
    "X, y = diabetes.data, diabetes.target"
   ]
  },
  {
   "cell_type": "markdown",
   "id": "40b14e79",
   "metadata": {},
   "source": [
    "Find/confirm the number of samples and features using ''.shape'' attribute of NumPy arrays."
   ]
  },
  {
   "cell_type": "code",
   "execution_count": null,
   "id": "5aaf721f",
   "metadata": {},
   "outputs": [],
   "source": [
    "np.shape(X)"
   ]
  },
  {
   "cell_type": "markdown",
   "id": "e372c5f2",
   "metadata": {},
   "source": [
    "Thus, we have 442 samples with 10 features."
   ]
  },
  {
   "cell_type": "code",
   "execution_count": null,
   "id": "b3facba3",
   "metadata": {},
   "outputs": [],
   "source": [
    "np.shape(y)"
   ]
  },
  {
   "cell_type": "markdown",
   "id": "5c03e49b",
   "metadata": {},
   "source": [
    "Once again confirming that we have 442 data samples."
   ]
  },
  {
   "cell_type": "code",
   "execution_count": null,
   "id": "b972c478",
   "metadata": {},
   "outputs": [],
   "source": [
    "diabetes.feature_names"
   ]
  },
  {
   "cell_type": "code",
   "execution_count": null,
   "id": "6a36179c",
   "metadata": {},
   "outputs": [],
   "source": []
  },
  {
   "cell_type": "code",
   "execution_count": null,
   "id": "4401df06",
   "metadata": {},
   "outputs": [],
   "source": []
  },
  {
   "cell_type": "code",
   "execution_count": null,
   "id": "04cc8611",
   "metadata": {},
   "outputs": [],
   "source": []
  },
  {
   "cell_type": "markdown",
   "id": "eec3ea9f",
   "metadata": {},
   "source": [
    "Convert the input NumPy array X to a Pandas DataFrame. You can find feature names (i.e., column names) by using diabetes (we don't have access to row labels or patients').feature_names. Print the first 5 rows of the created DataFrame. "
   ]
  },
  {
   "cell_type": "code",
   "execution_count": null,
   "id": "5a601bbe",
   "metadata": {},
   "outputs": [],
   "source": [
    "import pandas as pd\n"
   ]
  },
  {
   "cell_type": "code",
   "execution_count": null,
   "id": "a0925cb5",
   "metadata": {},
   "outputs": [],
   "source": [
    "print(type(X))"
   ]
  },
  {
   "cell_type": "markdown",
   "id": "fc1838fc",
   "metadata": {},
   "source": [
    "Thus, we can currently see that the input array X is currently a NumPy array. We are wanting to convert it from a NumPy array to a Pandas DataFrame."
   ]
  },
  {
   "cell_type": "code",
   "execution_count": null,
   "id": "c95a08eb",
   "metadata": {},
   "outputs": [],
   "source": [
    "X_pd = pd.DataFrame(X, columns = ['age', 'sex', 'bmi', 'bp', 's1', 's2', 's3', 's4', 's5', 's6'])"
   ]
  },
  {
   "cell_type": "code",
   "execution_count": null,
   "id": "569f1afa",
   "metadata": {},
   "outputs": [],
   "source": [
    "print(type(X_pd))"
   ]
  },
  {
   "cell_type": "markdown",
   "id": "ccd2fb05",
   "metadata": {},
   "source": [
    "Hence, we have converted the input NumPy array X from a Pandas DataFrame into a Pandas DataFrame."
   ]
  },
  {
   "cell_type": "code",
   "execution_count": null,
   "id": "062978b3",
   "metadata": {},
   "outputs": [],
   "source": [
    "# Obtaining the first 5 rows of the newly created DataFrame\n",
    "df_first_5 = X_pd.head(5)\n",
    "df_first_5"
   ]
  },
  {
   "cell_type": "code",
   "execution_count": null,
   "id": "29f3a9c7",
   "metadata": {},
   "outputs": [],
   "source": []
  },
  {
   "cell_type": "code",
   "execution_count": null,
   "id": "28fddb97",
   "metadata": {},
   "outputs": [],
   "source": []
  },
  {
   "cell_type": "code",
   "execution_count": null,
   "id": "f58c925e",
   "metadata": {},
   "outputs": [],
   "source": []
  },
  {
   "cell_type": "code",
   "execution_count": null,
   "id": "e3ec5b72",
   "metadata": {},
   "outputs": [],
   "source": []
  }
 ],
 "metadata": {
  "kernelspec": {
   "display_name": "Python 3 (ipykernel)",
   "language": "python",
   "name": "python3"
  },
  "language_info": {
   "codemirror_mode": {
    "name": "ipython",
    "version": 3
   },
   "file_extension": ".py",
   "mimetype": "text/x-python",
   "name": "python",
   "nbconvert_exporter": "python",
   "pygments_lexer": "ipython3",
   "version": "3.9.7"
  }
 },
 "nbformat": 4,
 "nbformat_minor": 5
}
